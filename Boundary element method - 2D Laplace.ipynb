{
 "metadata": {
  "name": "",
  "signature": "sha256:95ef23a590a2a48bf818472abd79e1382a843f3e19babd060874da333916b4c3"
 },
 "nbformat": 3,
 "nbformat_minor": 0,
 "worksheets": [
  {
   "cells": [
    {
     "cell_type": "heading",
     "level": 1,
     "metadata": {},
     "source": [
      "Boundary element method"
     ]
    },
    {
     "cell_type": "markdown",
     "metadata": {},
     "source": [
      "These notes are based on the introductory article by KC Ang (2008), which are in turn based on the excellent book on boundary element method by Ang Whye Teong. Thankfully, the variables used here are almost identical in these two resources, except for the indexing. I'll use the more readable style of KC Ang to format the equations, but it's important to read WT Ang's book for important details. \n",
      "\n",
      "[1] Keng-Cheng Ang (2008) Introducing the boundary element method with MATLAB, International Journal of Mathematical Education in Science and Technology, 39:4, 505-519, DOI: 10.1080/00207390701722676\n",
      "\n",
      "[2] Whye-Teong Ang, A Beginner's Course in Boundary Element Methods, chapter 1."
     ]
    },
    {
     "cell_type": "heading",
     "level": 2,
     "metadata": {},
     "source": [
      "Fundamental solution of the Laplace equation"
     ]
    },
    {
     "cell_type": "markdown",
     "metadata": {},
     "source": [
      "A fundamental solution to the two dimensional Laplace equation is \n",
      "\n",
      "$$ u^* = \\frac{1}{4\\pi} \\ln \\left[ (x-\\xi)^2 + (y-\\eta)^2 \\right], $$\n",
      "\n",
      "which satisfies the Laplace equation *except* at a singularity $(\\xi,\\eta)$. \n",
      "\n",
      "After applying Green's second identity and much more math, we find that the boundary integral equation for the two-dimensional Laplace equation is \n",
      "\n",
      "$$\\lambda u(\\xi,\\eta) = \\int_C \\left( u \\frac{\\partial u^*}{\\partial n} - u^* \\frac{\\partial u}{\\partial n} \\right) ds,$$\n",
      "\n",
      "where $\\lambda = 0$ when the singularity $(\\xi,\\eta)$ is outside the domain, $\\lambda = 1/2$ when it lies on the boundary $C$, and $\\lambda=1$ when it is inside the region $R$. \n",
      "\n",
      "It is important to note that the derivative $\\partial u /\\partial n$  is defined by \n",
      "\n",
      "$$ \\frac{\\partial u}{\\partial n} = n_x \\frac{\\partial u}{\\partial x} + n_y \\frac{\\partial u}{\\partial y},  $$ \n",
      "\n",
      "where $n_x, n_y$  are the $x$ and $y$ components of a unit normal vector to the curve $C$. "
     ]
    },
    {
     "cell_type": "heading",
     "level": 2,
     "metadata": {},
     "source": [
      "Discretising the boundary elements"
     ]
    },
    {
     "cell_type": "markdown",
     "metadata": {},
     "source": [
      "The key idea of the computational scheme is to discretise the smooth boundary into a number of straight line segments $C_k$, and then solve a discretised version of the boundary integral equation. We will call the straight line segments **boundary elements**. The midpoints of each segment are assigned $(\\bar{x}_k, \\bar{y}_k)$. These midpoints are parameterised by \n",
      "\n",
      "$$ x = x_k - t \\ell_k n_k^y,  $$\n",
      "$$ y = y_k + t \\ell_k n_k^x, $$\n",
      "\n",
      "where $l_k$ is the length of each segment $C_k$, the parameter $t$ runs from 0 to 1 and $[n_k^x, n_k^y] = [y_{k+1} - y_k, x_k - x_{k+1}]/\\ell_k$ \n",
      "\n",
      "Moreover, over each boundary element, the boundary conditions of $u$ and $\\partial u/\\partial n$ are assumed constant. Therefore we can say that for all $k=1, 2...N$\n",
      "\n",
      "$$u\\approx \\bar{u}_k, \\;\\;\\; \\frac{\\partial u}{\\partial n} \\approx \\bar{q}_k\\;\\;\\; {\\rm for}\\; (x,y)\\in C_k.$$\n",
      "\n",
      "With this we can write the boundary integral equation in the discretised form\n",
      "\n",
      "$$ \\lambda u(\\xi,\\eta) = \\sum_{k=1}^N (\\bar{u}_k G_k(\\xi,\\eta) - \\bar{q}_k F_k(\\xi,\\eta)), $$\n",
      "\n",
      "where \n",
      "\n",
      "$$ F_k(\\xi,\\eta) = \\int_{C_k} u^*(\\xi,\\eta) ds, $$\n",
      "\n",
      "$$ G_k(\\xi,\\eta) = \\int_{C_k} \\frac{\\partial u^* (\\xi,\\eta)}{\\partial n} ds. $$\n",
      "\n",
      "The catch is that in every boundary element $C_k$, only one of $\\bar{u}_k$ or $\\bar{q}_k$ is known. If we have $N$ boundary elements, there are therefore exactly $N$ unknown quantities which are either $\\bar{u}_k$ or $\\bar{q}_k$.\n",
      "\n",
      "We now proceed as follows. Let a singularity $(\\xi,\\eta)$ lie at each midpoint of each boundary element $C_k$. Note that on the boundary $\\lambda = 1/2$, which gives the discretised boundary element equation\n",
      "\n",
      "$$ \\frac{1}{2}\\bar{u}_m = \\sum_{k=1}^N (\\bar{u}_k G_k(\\bar{x}_m, \\bar{y}_m) - \\bar{q}_k F_k(\\bar{x}_m,\\bar{y}_m)), \\;\\;\\; {\\rm for}\\; m=1,2... N,$$ \n",
      "\n",
      "for which $u^*_m = (1/4\\pi) \\ln ( (x-\\bar{x}_m)^2 + (y-\\bar{y}_m)^2)$ is the fundamental solution of the Laplace equation and $(\\bar{x}_m, \\bar{y}_m)$  is the midpoint of the boundary element $C_m$. "
     ]
    },
    {
     "cell_type": "markdown",
     "metadata": {},
     "source": [
      "The goal of the calculation is to solve for the unknown $\\bar{u}_k$ or $\\bar{q}_k$. To do this, we rearrange the discretised boundary element equation in the form ${\\bf A}{\\bf z} = {\\bf b}$. So, for each of the $m=1,2... N$ equations we construct\n",
      "\n",
      "$$ \\sum_{k=1}^N A_{mk} z_k = \\sum_{k=1}^N b_{mk}, $$\n",
      "\n",
      "where the unknown variables are stored in ${\\bf z}$ and the known variables in ${\\bf A}$ and ${\\bf b}$. Let us say that for a given boundary element $C_k$, $\\bar{u}$ is known and $\\bar{q}$ is unknown. In that case, \n",
      "\n",
      "$$ A_{mk} = -F_k(\\bar{x}_m, \\bar{y}_m), $$\n",
      "\n",
      "$$B_{mk} = \\begin{cases}-\\bar{u}_k G_k (\\bar{x}_m, \\bar{y}_m) & k \\neq m, \\\\ -\\bar{u}_k G_k(\\bar{x}_m, \\bar{y}_m) + \\frac{1}{2}u_m & k = m, \\end{cases} $$ \n",
      "\n",
      "$$ z_{k} = \\bar{q}_k. $$ \n",
      "\n",
      "The other class of cases occurs when for a given boundary element $C_k$, $\\bar{u}$ is unknown and $\\bar{q}$ is known. Then\n",
      "\n",
      "$$ A_{mk} = G_k(\\bar{x}_m, \\bar{y}_m),  $$\n",
      "\n",
      "$$ B_{mk} = \\begin{cases} G_k(\\bar{x}_m, \\bar{y}_m) & k\\neq m, \\\\\n",
      "G_k(\\bar{x}_m, \\bar{y}_m) - \\frac{1}{2} & k=m,\\end{cases} $$ \n",
      "\n",
      "$$ z_k = \\bar{u}_k. $$ "
     ]
    },
    {
     "cell_type": "heading",
     "level": 2,
     "metadata": {},
     "source": [
      "The line integrals"
     ]
    },
    {
     "cell_type": "markdown",
     "metadata": {},
     "source": [
      "To populate the elements $A_{mk}$  and $B_{mk}$ we need to integrate $F_k$ and $G_k$. First, we have\n",
      "\n",
      "$$ F_k(\\xi,\\eta) = \\int_{C_k} \\frac{1}{4\\pi}\\ln [(x-\\xi)^2 - (y-\\eta)^2 ] ds.  $$ \n",
      "\n",
      "First, note that the line element $ds$ can be expressed as a function of the parameter $t$, giving\n",
      "\n",
      "$$ ds = \\sqrt{(dx)^2 + (dy)^2} = \\ell_k dt.$$ \n",
      "\n",
      "It can be shown that we can write the term in the logarithm as a function of the parameter $t$\n",
      "\n",
      "$$ (x-\\xi)^2 + (y-\\eta)^2 = A_k(\\xi,\\eta) t^2 + B_k(\\xi,\\eta) t + E_k(\\xi,\\eta),$$ \n",
      "\n",
      "where \n",
      "\n",
      "$$ A_k(\\xi,\\eta) = \\ell_k^2, $$\n",
      "\n",
      "$$ B_k(\\xi,\\eta) = [-n_k^y(x_k - \\xi) + n_k^x(y_k - \\eta)](2\\ell_k),$$ \n",
      "\n",
      "$$ E_k(\\xi,\\eta) = (x_k - \\xi)^2 + (y_k - \\eta)^2. $$ "
     ]
    },
    {
     "cell_type": "markdown",
     "metadata": {},
     "source": [
      "Note that to arrive at this expression we have essentially completed the square, and it can be shown that the relation $4A_k E_k - B_k^2 \\le 0$ holds. This relation is of little consequence to us if we are evaluating the resulting integrals numerically, but if we are evaluating the integrals analytically we will have one equation for each of $4 A_k E_k = B_k^2$ and one for $4A_k E_k < B_k^2$. \n",
      "\n",
      "Now, we can substitute these quantities into the line integral to obtain\n",
      "\n",
      "$$F_k = \\frac{\\ell_k}{4\\pi} \\int_0^1 \\ln (A_k t^2 + B_k t + E_k)\\; dt, $$ \n",
      "\n",
      "while \n",
      "\n",
      "$$ G_k = \\int_{C_k} \\frac{\\partial u^*}{\\partial n} ds = \\int_{C_k} \\left( \\frac{\\partial u^*}{\\partial x_k} n_k^x + \\frac{\\partial u^*}{\\partial y_k} n_k^y \\right) ds. $$ \n",
      "\n",
      "In the discretised form, we can now substitute $A_k, B_k, E_k$  to obtain\n",
      "\n",
      "$$ G_k = \\frac{\\ell_k}{2\\pi} \\int_0^1 \\frac{n_k^x (x_k - \\xi) + n_k^y(y_k - \\eta)}{A_k t^2 + B_k t + E_k} dt. $$ \n",
      "\n",
      "The integral $F_k$ is straightforward to handle, but $G_k$ is more problematic. There are a number of ways to solve the line integrals for $G_k$ with respect to the parameter $t$, and we will present both a numerical method and the analytical method."
     ]
    },
    {
     "cell_type": "heading",
     "level": 2,
     "metadata": {},
     "source": [
      "Tackling the line integrals, analytically"
     ]
    },
    {
     "cell_type": "markdown",
     "metadata": {},
     "source": [
      "**When** $m\\neq k$ ** and the discriminant of the quadratic** $A_k t^2 + B_k t + E_k$ **is positive**, ie, $4A_k E_k < B_k^2$, we can solve for $G_k$ using the standard integral\n",
      "\n",
      "$$ \\int \\frac{dt}{at^2 + bt + c} = \\frac{2}{\\sqrt{4ac - b^2}} \\tan^{-1} \\left( \\frac{2at + b}{\\sqrt{4ac-b^2}}\\right) + {\\rm const}. $$ \n",
      "\n",
      "This identity leads to\n",
      "\n",
      "$$ G_k = \\frac{\\ell_k}{\\pi} \\frac{n_k^x(x_k - \\xi) + n_k^y(y_k-\\eta)}{\\sqrt{4A_k E_k - B_k^2}} \\left[\\tan^{-1} \\left( \\frac{2A_k + B_k}{\\sqrt{4A_k E_k - B_k^2}} \\right) - \\tan^{-1} \\left( \\frac{ B_k}{\\sqrt{4A_k E_k - B_k^2}} \\right) \\right].$$ \n",
      "\n",
      "$F_k$ is also straightforward (if unwieldy), and using the standard integral\n",
      "\n",
      "$$ \\int \\ln (at^2 + bt + c) dt = t(\\ln a - 2) + \\left( t+\\frac{b}{2a} \\right) \\ln \\left( t^2 + \\frac{b}{a} t + \\frac{c}{a} \\right) + \\frac{\\sqrt{4ac-b^2}}{a} \\tan^{-1} \\left( \\frac{2at+b}{\\sqrt{4ac-b^2}} \\right) + {\\rm const} $$ \n",
      "\n",
      "$$ F_k = \\frac{\\ell_k}{4\\pi} \\left[ (\\ln A_k - 2) + \\left( 1+\\frac{B_k}{2 A_k}\\right) \\ln \\left( 1+ \\frac{B_k}{A_k} + \\frac{E_k}{A_k} \\right)  - \\frac{B_k}{2A_k} \\ln \\frac{E_k}{A_k} + \\frac{\\sqrt{4 A_k E_k - B_k^2}}{A_k} \\left( \\tan^{-1} \\frac{2A_k + B_k}{\\sqrt{4A_k E_k - B_k^2}} - \\tan^{-1} \\frac{ B_k}{\\sqrt{4A_k E_k - B_k^2}} \\right) \\right]. $$ \n",
      "\n",
      "**When the discriminant is zero** and $m\\neq k$, we have $4A_k E_k = B_k^2$. Then we can show from inspection that \n",
      "\n",
      "$$ A_k + B_k + E_k = A_k \\left(t + \\frac{B_k}{2A_k}\\right)^2. $$ \n",
      "\n",
      "Now the integral $F_k$ becomes\n",
      "\n",
      "$$ F_k = \\frac{\\ell_k}{4\\pi} \\int_0^1 \\ln \\left[ A_k \\left( t + \\frac{B_k}{2A_k} \\right)^2 \\right] \\; dt.$$ \n",
      "\n",
      "We can find a standard integral for this form,\n",
      "\n",
      "$$ \\int \\ln \\left[ a + \\left(t+\\frac{b}{2a}\\right)^2 \\right] dt = \\frac{2at+b}{2a}  \\left[ \\ln \\left( a\\left(\\frac{b}{2a}+t\\right)^2 \\right) - 2 \\right]  $$.\n",
      "\n",
      "Then \n",
      "\n",
      "$$ F_k = \\frac{\\ell_k}{4\\pi} \\frac{2A_k+B_k}{2A_k} \\left[ \\ln \\left( A_k \\left( \\frac{B_k}{2A_k} + 1 \\right)^2 \\right) -2 \\right] + \\frac{\\ell_k}{4\\pi} \\frac{B_k}{2A_k} \\left[ \\ln \\frac{B_k^2}{4A_k} -2 \\right].$$\n",
      "\n",
      "Meanwhile, \n",
      "\n",
      "$$ G_k = \\frac{\\ell_k}{2\\pi} \\int_0^1 \\frac{n_k^x (x_k - \\xi) + n_k^y(y_k - \\eta)}{A_k t^2 + B_k t + E_k} dt. $$ \n",
      "\n",
      "Note that the singularity $(\\xi,\\eta)$ lies on the straight line of the boundary element $C_k$. Therefore, the vector $[x_k-\\xi, y_k-\\eta]$ is perpendicular to $[n_k^x, n_k^y]$, and their dot product is zero. So in this case\n",
      "\n",
      "$$ G =0. $$ "
     ]
    },
    {
     "cell_type": "heading",
     "level": 3,
     "metadata": {},
     "source": [
      "The special case that $m=k$"
     ]
    },
    {
     "cell_type": "markdown",
     "metadata": {},
     "source": [
      "The singularity $(\\xi,\\eta) \\equiv (x_m, y_m)$. When $k=m$, all the terms containing $(x_k - \\xi)$ or $(y_k - \\eta)$ become zero. The net effect is that $A_k = \\ell_k^2$, while $B_k= E_k = 0$. From the earlier standard integrals we have the simple form\n",
      "\n",
      "$$ F_{k=m} = \\frac{\\ell_k}{4\\pi} \\ln A_k - 2, $$ \n",
      "\n",
      "$$ G_{k=m} = 0.$$ \n",
      "\n",
      "Again, if we were calculating the line integrals numerically, we would not need to know this. "
     ]
    },
    {
     "cell_type": "heading",
     "level": 2,
     "metadata": {},
     "source": [
      "Tackling the line integrals, numerically"
     ]
    },
    {
     "cell_type": "markdown",
     "metadata": {},
     "source": [
      "It is much easier to calculate \n",
      "\n",
      "$$F_k = \\frac{\\ell_k}{4\\pi} \\int_0^1 \\ln (A_k t^2 + B_k t + E_k)\\; dt, $$ \n",
      "\n",
      "and\n",
      "\n",
      "$$ G_k = \\frac{\\ell_k}{2\\pi} \\int_0^1 \\frac{n_k^x (x_k - \\xi) + n_k^y(y_k - \\eta)}{A_k t^2 + B_k t + E_k} dt $$ \n",
      "\n",
      "numerically using various methods. In the paper by KC Ang (2008), the integrals are calculated using in-built functions. In practice the integrals are usually calculated with a Gauss quadrature."
     ]
    },
    {
     "cell_type": "heading",
     "level": 2,
     "metadata": {},
     "source": [
      "An example numerical problem"
     ]
    },
    {
     "cell_type": "markdown",
     "metadata": {},
     "source": [
      "Let us solve the problem \n",
      "\n",
      "$$ \\nabla^2 u = 0 \\;\\;\\; {\\rm for} \\;\\;\\; 0 <x<1,\\;\\; 0<y<1 $$\n",
      "\n",
      "subject to the boundary conditions \n",
      "\n",
      "$$ \\begin{cases} u=0 \\\\ u=\\cos(xy) \\end{cases} {\\rm on}\\; x=0, \\;\\;\\; {\\rm for} \\; \\;\\; 0<y<1, $$\n",
      "\n",
      "$$ q = \\frac{\\partial u}{\\partial n} = 0 \\;\\;\\; {\\rm on} \\; y=0 \\; {\\rm and}\\; y=1 \\; {\\rm for}\\; 0 < x < 1. $$  \n",
      "\n",
      "In the input parameters, $(x_b,y_b)$ represents the points of the discretised domain. There are 17 points in all, the first one coinciding with the last. The parameter $b_t$ represents the type of boundary condition at each boundary element (which is calculated from the midpoint between each of the points): when $u$ is given, $b_t = 0$ and when $q$ is given $b_t = 1$. Finally, the actual value of the boundary condition is given in $b_v$. "
     ]
    },
    {
     "cell_type": "code",
     "collapsed": false,
     "input": [
      "from scipy import *\n",
      "import matplotlib.pyplot as plt\n",
      "from mpl_toolkits.mplot3d import Axes3D\n",
      "%matplotlib inline\n",
      "from __future__ import division"
     ],
     "language": "python",
     "metadata": {},
     "outputs": [],
     "prompt_number": 93
    },
    {
     "cell_type": "code",
     "collapsed": false,
     "input": [
      "# Input parameters in input.dat\n",
      "\n",
      "xb = array([0.00, 0.25, 0.50, 0.75, 1.00,\n",
      "            1.00, 1.00, 1.00, 1.00, 0.75,\n",
      "            0.50, 0.25, 0.00, 0.00, 0.00,\n",
      "            0.00, 0.00])\n",
      "\n",
      "yb = array([0.00, 0.00, 0.00, 0.00, 0.00,\n",
      "            0.25, 0.50, 0.75, 1.00, 1.00,\n",
      "            1.00, 1.00, 1.00, 0.75, 0.50,\n",
      "            0.25, 0.00])\n",
      "\n",
      "# Dirichlet (u given) when bt = 0\n",
      "# Neumann (du/dn given) when bt = 1\n",
      "bt = array([1, 1, 1, 1, 0, 0, 0, 0,\n",
      "            1, 1, 1, 1, 0, 0, 0, 0])\n",
      "\n",
      "bv = array([0.0000, 0.0000, 0.0000, 0.0000,\n",
      "            0.9239, 0.3827, -0.3827, -0.9239,\n",
      "            0.0000, 0.0000, 0.0000, 0.0000,\n",
      "            0.0000, 0.0000, 0.0000, 0.0000])"
     ],
     "language": "python",
     "metadata": {},
     "outputs": [],
     "prompt_number": 15
    },
    {
     "cell_type": "code",
     "collapsed": false,
     "input": [
      "n = len(xb)-1\n",
      "\n",
      "xm = zeros(n) # Midpoint x\n",
      "ym = zeros(n) # midpoint y\n",
      "lm = zeros(n) # element length\n",
      "nx = zeros(n) # nx\n",
      "ny = zeros(n) # ny\n",
      "\n",
      "# The solution space\n",
      "A  = zeros((n,n)) # A_mk\n",
      "B  = zeros(n)     # b_mk\n",
      "\n",
      "# Midpoints, lengths and unit normal vectors of the boundary elements \n",
      "for i in range(n): \n",
      "    xm[i] = 0.5 * (xb[i] + xb[i+1])\n",
      "    ym[i] = 0.5 * (yb[i] + yb[i+1])\n",
      "    lm[i] = sqrt((xb[i+1] - xb[i])**2 + (yb[i+1] - yb[i])**2)\n",
      "    nx[i] = (yb[i+1] - yb[i])/lm[i]\n",
      "    ny[i] = (xb[i] - xb[i+1])/lm[i]\n"
     ],
     "language": "python",
     "metadata": {},
     "outputs": [],
     "prompt_number": 94
    },
    {
     "cell_type": "code",
     "collapsed": false,
     "input": [
      "plt.figure(figsize=(5,5))\n",
      "plt.plot(xb,yb,'ro-')\n",
      "plt.plot(xm,ym,'bx')\n",
      "plt.title('Domain and midpoints')\n",
      "plt.xlim([-0.2,1.2])\n",
      "plt.ylim([-0.2,1.2])"
     ],
     "language": "python",
     "metadata": {},
     "outputs": [
      {
       "metadata": {},
       "output_type": "pyout",
       "prompt_number": 19,
       "text": [
        "(-0.2, 1.2)"
       ]
      },
      {
       "metadata": {},
       "output_type": "display_data",
       "png": "[encoded data removed]",
       "text": [
        "<matplotlib.figure.Figure at 0x10bbdc550>"
       ]
      }
     ],
     "prompt_number": 19
    },
    {
     "cell_type": "code",
     "collapsed": false,
     "input": [
      "''' \n",
      "Evaluates F and G analytically in the case m != k.\n",
      "'''\n",
      "def findfg(xmk,ymk,xbk,ybk,nxk,nyk,lmk):\n",
      "    \n",
      "    xi = xmk\n",
      "    eta = ymk\n",
      "    \n",
      "    Ak = lmk*lmk\n",
      "    Bk = 2*lmk * (-nyk*(xbk-xi) + nxk*(ybk-eta))\n",
      "    Ek = (xbk - xi)**2 + (ybk - eta)**2\n",
      "    \n",
      "    Dk = sqrt(4*Ak*Ek - Bk**2) # Discriminant\n",
      "    BA = Bk/Ak\n",
      "    EA = Ek/Ak\n",
      "    Lkp = lmk/(2*pi)\n",
      "    \n",
      "    if (4*Ak*Ek - Bk**2 == 0): # when discriminant approx 0\n",
      "\n",
      "        F = Lkp * (log(lmk) + (1+0.5*BA)*log(abs(1+0.5*BA)) - 0.5*BA *\\\n",
      "                   log(abs(0.5*BA)) - 1)\n",
      "        \n",
      "        G = 0\n",
      "                \n",
      "    else:  # when Dk < 0\n",
      "                \n",
      "        F = (lmk/(4*pi)) * (2*log(lmk) - 2 - 0.5*BA*log(abs(EA)) + (1+0.5*BA)*\\\n",
      "                            log(abs(1+BA+EA)) + Dk/Ak * (arctan((2*Ak + Bk)/Dk) \\\n",
      "                                                         - arctan(Bk/Dk) ) )\n",
      "\n",
      "        G = (lmk/pi) * (nxk*(xbk - xi) + nyk*(ybk-eta))/Dk *\\\n",
      "        (arctan((2*Ak+Bk)/Dk) - arctan(Bk/Dk))\n",
      "    \n",
      "    return F, G\n",
      "\n",
      "'''\n",
      "Here we assemble the matrices Amk, Bmk.\n",
      "'''\n",
      "for m in range(n):\n",
      "    B[m] = 0\n",
      "    for k in range(n):\n",
      "        \n",
      "        # First, find the values of F_k and G_k\n",
      "        \n",
      "        if (m==k): # trivial case\n",
      "            F = (lm[k]/(2.0*pi)) * (log( lm[k]/2.0 ) - 1.0)\n",
      "            G = 0.0\n",
      "            delta = 1.0\n",
      "        else:\n",
      "            # We'll define findfg separately\n",
      "            F, G = findfg(xm[m], ym[m], xb[k], yb[k], nx[k], ny[k], lm[k]) \n",
      "            delta = 0.0\n",
      "            \n",
      "        # Populate A_mk\n",
      "        if (bt[k] == 0): # Dirichlet / if u is known\n",
      "            A[m,k] = -F\n",
      "            B[m] = B[m]+ bv[k]*(-G + 0.5*delta)\n",
      "            \n",
      "        else: # Neumann / if q is known\n",
      "            A[m,k] = G - delta*0.5\n",
      "            B[m] = B[m]+ bv[k]*F\n",
      "            "
     ],
     "language": "python",
     "metadata": {},
     "outputs": [],
     "prompt_number": 175
    },
    {
     "cell_type": "markdown",
     "metadata": {},
     "source": [
      "Here we will cheat a bit by using an in-built solver to solve the system of equations ${\\bf A}{\\bf z} = {\\bf b}$. Alternatively, we can solve the system by using Gauss elimination but this will slow down the code yet still. "
     ]
    },
    {
     "cell_type": "code",
     "collapsed": false,
     "input": [
      "'''\n",
      "Solve the matrix\n",
      "'''\n",
      "from scipy.linalg import solve\n",
      "z = solve(A,B)\n",
      "\n",
      "'''\n",
      "Now we assign the solutions to vectors\n",
      "'''\n",
      "u = zeros(n)\n",
      "q = zeros(n)\n",
      "\n",
      "\n",
      "for i in range(n):\n",
      "    u[i] = (1-bt[i])*bv[i] + bt[i]*z[i]\n",
      "    q[i] = (1-bt[i])*z[i] + bt[i]*bv[i]\n",
      "    "
     ],
     "language": "python",
     "metadata": {},
     "outputs": [],
     "prompt_number": 161
    },
    {
     "cell_type": "code",
     "collapsed": false,
     "input": [
      "''' \n",
      "Plotting\n",
      "'''\n",
      "#x = linspace(0,1,100)\n",
      "#y = linspace(0,1,100)\n",
      "\n",
      "x = 0.01*arange(1,100)\n",
      "y = 0.01*arange(1,100)\n",
      "\n",
      "s = zeros((len(x),len(y)))\n",
      "\n",
      "for i in range(len(x)):\n",
      "    for j in range(len(y)):\n",
      "        for k in range(n):\n",
      "            F, G = findfg(x[i], y[j], xb[k], yb[k], nx[k], ny[k], lm[k])\n",
      "            s[j,i] = s[j,i] + G*u[k] - F*q[k]\n",
      "            "
     ],
     "language": "python",
     "metadata": {},
     "outputs": [],
     "prompt_number": 162
    },
    {
     "cell_type": "code",
     "collapsed": false,
     "input": [
      "plt.figure(figsize=(5,5))\n",
      "plt.pcolor(s)\n",
      "plt.xlabel('$x$')\n",
      "plt.ylabel('$y$')"
     ],
     "language": "python",
     "metadata": {},
     "outputs": [
      {
       "metadata": {},
       "output_type": "pyout",
       "prompt_number": 163,
       "text": [
        "<matplotlib.text.Text at 0x11ee96650>"
       ]
      },
      {
       "metadata": {},
       "output_type": "display_data",
       "png": "[encoded data removed]",
       "text": [
        "<matplotlib.figure.Figure at 0x11ea59b90>"
       ]
      }
     ],
     "prompt_number": 163
    },
    {
     "cell_type": "heading",
     "level": 3,
     "metadata": {},
     "source": [
      "Comparing BEM with analytical solution"
     ]
    },
    {
     "cell_type": "markdown",
     "metadata": {},
     "source": [
      "We're now in a position to compare the code with the analytical solution \n",
      "\n",
      "$$ u = \\frac{\\sinh(\\pi x) \\cos(\\pi y)}{\\sinh(\\pi)},$$ \n",
      "\n",
      "by plotting the BEM solution for $u(x=0.8,y)$ against the analytical formula.\n",
      "\n",
      "As you can see the agreement is not too bad. In the paper by KC Ang, $F_k$ and $G_k$ were calculated by integration, but we have obtained similar results by using analytical formulas. "
     ]
    },
    {
     "cell_type": "code",
     "collapsed": false,
     "input": [
      "Y = 0.1*arange(1,10)\n",
      "X = 0.8*ones_like(Y)\n",
      "S = zeros(len(Y))\n",
      "\n",
      "Y_exact = linspace(0,1,100)\n",
      "\n",
      "for i in range(len(Y)):\n",
      "    for k in range(n):\n",
      "        F, G = findfg(0.8, Y[i], xb[k], yb[k], nx[k], ny[k], lm[k])\n",
      "        S[i] = S[i] + G*u[k] - F*q[k]\n",
      "\n",
      "S_exact = sinh(pi*0.8)*cos(pi*Y_exact)/sinh(pi)\n",
      "        \n",
      "plt.figure(figsize=(5,5))\n",
      "plt.plot(Y_exact, S_exact,'k', label='Exact')\n",
      "plt.plot(Y, S, 'ro', label='BEM')\n",
      "plt.xlabel('$y$')\n",
      "plt.ylabel('$u$')\n",
      "plt.legend(loc='upper right')"
     ],
     "language": "python",
     "metadata": {},
     "outputs": [
      {
       "metadata": {},
       "output_type": "pyout",
       "prompt_number": 174,
       "text": [
        "<matplotlib.legend.Legend at 0x12106b050>"
       ]
      },
      {
       "metadata": {},
       "output_type": "display_data",
       "png": "[encoded data removed]",
       "text": [
        "<matplotlib.figure.Figure at 0x1210a7bd0>"
       ]
      }
     ],
     "prompt_number": 174
    }
   ],
   "metadata": {}
  }
 ]
}

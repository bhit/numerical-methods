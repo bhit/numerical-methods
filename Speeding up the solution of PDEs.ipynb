{
 "cells": [
  {
   "cell_type": "code",
   "execution_count": 23,
   "metadata": {
    "collapsed": false
   },
   "outputs": [
    {
     "name": "stdout",
     "output_type": "stream",
     "text": [
      "Populating the interactive namespace from numpy and matplotlib\n"
     ]
    }
   ],
   "source": [
    "%pylab inline"
   ]
  },
  {
   "cell_type": "markdown",
   "metadata": {},
   "source": [
    "# Speeding up the solution of PDEs\n",
    "#### Tan Beng Hau, Cavitation Lab\n",
    "\n",
    "In this notebook I have written some notes on how to speed up the numerical solution of the Laplace equation. Although Python is pretty and elegant, it is rather slow. One obvious way to speed it up is to integrate it with C. You can do it indirectly, using the C-optimised `numpy` slices, and `numpy` does all the backend work for you. In `weave` you have to write pure C code. I'll also do the same thing in `numba`, which is by far my favourite. There's also another package, `cython`, which [translates your Python code into C](http://nbviewer.ipython.org/gist/anonymous/4271861), but it is not self-contained in an iPython notebook (you have to create a few other files, but it's not as difficult as it sounds) so I don't show it here. \n",
    "\n",
    "The **executive summary** is that you can already get a rather dramatic speed boost (40$\\times$, and even greater when the calculations are cached) simply by writing the code as an array slice in `numpy`. Using the `numba` package is the simplest way to optimise the speed of the code."
   ]
  },
  {
   "cell_type": "markdown",
   "metadata": {},
   "source": [
    "## Numerical solution of the Laplace equation\n",
    "\n",
    "The Laplace equation is\n",
    "\n",
    "$$ \\frac{\\partial^2 u}{\\partial x^2} + \\frac{\\partial^2 u}{\\partial y^2} = 0.$$\n",
    "\n",
    "In discretised form,\n",
    "\n",
    "$$ \\frac{\\partial^2 u}{\\partial x^2} = \\frac{u_{i-1,j} - 2u_{i,j} + u_{i+1,j}}{2 (\\Delta x)^2}, $$\n",
    "\n",
    "and \n",
    "\n",
    "$$ \\frac{\\partial^2 u}{\\partial y^2} = \\frac{u_{i,j-1} - 2u_{i,j} + u_{i,j+1}}{2 (\\Delta y)^2}. $$\n",
    "\n",
    "Combining the two equations gives\n",
    "\n",
    "$$ (\\Delta y)^2 (u_{i-1,j} - 2u_{i,j} + u_{i+1,j}) + (\\Delta x)^2 (u_{i,j-1} - 2u_{i,j} + u_{i,j+1}) = 0. $$\n",
    "\n",
    "Simplifying gives \n",
    "\n",
    "$$ 2(\\Delta x^2 + \\Delta y^2) u_{i,j} = (u_{i-1,j} + u_{i+1,j})\\Delta y^2 + (u_{i,j-1} + u_{i,j+1})\\Delta x^2. $$\n",
    "\n",
    "We therefore write the discretisation equation\n",
    "\n",
    "$$ u_{i,j} = \\frac{(u_{i-1,j} + u_{i+1,j})\\Delta y^2 + (u_{i,j-1} + u_{i,j+1})\\Delta x^2}{2(\\Delta x^2) + 2(\\Delta y^2)}. $$"
   ]
  },
  {
   "cell_type": "markdown",
   "metadata": {},
   "source": [
    "### Pure Python code"
   ]
  },
  {
   "cell_type": "code",
   "execution_count": 24,
   "metadata": {
    "collapsed": true
   },
   "outputs": [],
   "source": [
    "def py_update(u, dx2 ,dy2):\n",
    "    \"\"\" Update the u vector at every time step. \"\"\"\n",
    "    nx, ny = u.shape\n",
    "    for i in range(1, nx-1):\n",
    "        for j in range(1,ny-1):\n",
    "            u[i,j] = ((u[i-1,j] + u[i+1,j])*dy2 + (u[i,j-1] + u[i,j+1])*dx2 )/(2*dy2 + 2*dx2)"
   ]
  },
  {
   "cell_type": "code",
   "execution_count": 17,
   "metadata": {
    "collapsed": true
   },
   "outputs": [],
   "source": [
    "def calc(dx,dy,n, function, nSteps):\n",
    "    u = zeros((n,n))\n",
    "    \n",
    "    for i in range(nSteps):\n",
    "        # Update boundary conditions\n",
    "        u[0,:] = linspace(0,1,n)   # Dirichlet b.c. at the top\n",
    "        u[n-1,:] = u[n-2,:]        # Neumann b.c. at the bottom\n",
    "        u[:,0] = u[:,1]            # Neumann b.c. at the left\n",
    "        u[:,n-1] = u[:,n-2]        # Neumann b.c. at the right\n",
    "    \n",
    "        function(u, dx*dx, dy*dy)\n",
    "        \n",
    "    return u"
   ]
  },
  {
   "cell_type": "code",
   "execution_count": 26,
   "metadata": {
    "collapsed": false
   },
   "outputs": [
    {
     "name": "stdout",
     "output_type": "stream",
     "text": [
      "CPU times: user 1.81 s, sys: 24.5 ms, total: 1.84 s\n",
      "Wall time: 1.84 s\n"
     ]
    }
   ],
   "source": [
    "%time u=calc(dx=0.1, dy=0.1, n=50, function = py_update, nSteps=500)"
   ]
  },
  {
   "cell_type": "code",
   "execution_count": 25,
   "metadata": {
    "collapsed": false
   },
   "outputs": [
    {
     "data": {
      "text/plain": [
       "<matplotlib.collections.PolyCollection at 0x1077293d0>"
      ]
     },
     "execution_count": 25,
     "metadata": {},
     "output_type": "execute_result"
    },
    {
     "data": {
      "image/png": "[encoded data removed]",
      "text/plain": [
       "<matplotlib.figure.Figure at 0x10929af90>"
      ]
     },
     "metadata": {},
     "output_type": "display_data"
    }
   ],
   "source": [
    "u = calc(dx=0.1, dy = 0.1, n = 50, function = py_update, nSteps = 500)\n",
    "figure(figsize=(5,5))\n",
    "pcolor(u)"
   ]
  },
  {
   "cell_type": "markdown",
   "metadata": {},
   "source": [
    "### Numpy update function\n",
    "\n",
    "The array slicing in `numpy` allows us to save much time by using automatic looping calculations. For a matrix dimension $n=50$, the speedup compared to pure Python is about 40 times on the first run."
   ]
  },
  {
   "cell_type": "code",
   "execution_count": 27,
   "metadata": {
    "collapsed": true
   },
   "outputs": [],
   "source": [
    "def numpy_update(u, dx2 ,dy2):\n",
    "    \"\"\" Update the u vector at every time step. \"\"\"\n",
    "    nx, ny = u.shape\n",
    "    \n",
    "    u[1:-1, 1:-1] = ((u[2: , 1:-1] + u[:-2, 1:-1])*dy2 +\\\n",
    "                     (u[1:-1, 2:] + u[1:-1, :-2])*dx2 )/(2*dy2 + 2*dx2)"
   ]
  },
  {
   "cell_type": "code",
   "execution_count": 36,
   "metadata": {
    "collapsed": false
   },
   "outputs": [
    {
     "name": "stdout",
     "output_type": "stream",
     "text": [
      "CPU times: user 29.7 ms, sys: 2.62 ms, total: 32.4 ms\n",
      "Wall time: 31.3 ms\n"
     ]
    }
   ],
   "source": [
    "%time u=calc(dx=0.1, dy=0.1, n=50, function = numpy_update, nSteps=500)"
   ]
  },
  {
   "cell_type": "code",
   "execution_count": 29,
   "metadata": {
    "collapsed": false
   },
   "outputs": [
    {
     "data": {
      "image/png": "[encoded data removed]",
      "text/plain": [
       "<matplotlib.figure.Figure at 0x109c6fa90>"
      ]
     },
     "metadata": {},
     "output_type": "display_data"
    }
   ],
   "source": [
    "u = calc(dx=0.1, dy = 0.1, n = 50, function = numpy_update, nSteps = 500)\n",
    "figure(figsize=(5,5))\n",
    "pcolor(u); "
   ]
  },
  {
   "cell_type": "markdown",
   "metadata": {
    "collapsed": true
   },
   "source": [
    "### Weave update function\n",
    "\n",
    "The `weave` module allows you to insert fragments of code in C. Even better, it communicates with Scipy or Python variables seamlessly. "
   ]
  },
  {
   "cell_type": "code",
   "execution_count": 7,
   "metadata": {
    "collapsed": false
   },
   "outputs": [],
   "source": [
    "from scipy import weave\n",
    "from scipy.weave import converters\n",
    "def inline_update(u, dx2, dy2):        \n",
    "    \"\"\"Takes a time step using inlined C code -- this version uses\n",
    "    blitz arrays.\"\"\"        \n",
    "    nx, ny = u.shape\n",
    "    dnr_inv = 0.5 / (dx2 + dy2)\n",
    "\n",
    "    code = \"\"\"\n",
    "            for (int i=1; i<nx-1; ++i) {\n",
    "               for (int j=1; j<ny-1; ++j) {\n",
    "                   u(i,j) = ((u(i-1,j) + u(i+1,j))*dy2 +\n",
    "                             (u(i,j-1) + u(i,j+1))*dx2)*dnr_inv;\n",
    "               }\n",
    "           }\n",
    "           return_val = 0;\n",
    "           \"\"\"\n",
    "    err = weave.inline(code, ['u', 'dx2', 'dy2', 'dnr_inv', 'nx','ny'],\n",
    "                       type_converters = converters.blitz)\n"
   ]
  },
  {
   "cell_type": "code",
   "execution_count": 13,
   "metadata": {
    "collapsed": false
   },
   "outputs": [
    {
     "name": "stdout",
     "output_type": "stream",
     "text": [
      "CPU times: user 43.3 ms, sys: 1.73 ms, total: 45 ms\n",
      "Wall time: 44.7 ms\n"
     ]
    }
   ],
   "source": [
    "%time u=calc(dx=0.1, dy=0.1, n=100, function = inline_update, nSteps=500)"
   ]
  },
  {
   "cell_type": "code",
   "execution_count": 21,
   "metadata": {
    "collapsed": false
   },
   "outputs": [
    {
     "data": {
      "text/plain": [
       "<matplotlib.collections.PolyCollection at 0x10948c5d0>"
      ]
     },
     "execution_count": 21,
     "metadata": {},
     "output_type": "execute_result"
    },
    {
     "data": {
      "image/png": "[encoded data removed]",
      "text/plain": [
       "<matplotlib.figure.Figure at 0x1092b6fd0>"
      ]
     },
     "metadata": {},
     "output_type": "display_data"
    }
   ],
   "source": [
    "u = calc(dx=0.1, dy = 0.1, n = 50, function = inline_update, nSteps = 500)\n",
    "figure(figsize=(5,5))\n",
    "pcolor(u)"
   ]
  },
  {
   "cell_type": "code",
   "execution_count": 5,
   "metadata": {
    "collapsed": true
   },
   "outputs": [],
   "source": [
    "from scipy import weave\n",
    "from scipy.weave import converters\n",
    "\n",
    "\n",
    "def blitz_update(u, dx2, dy2):        \n",
    "    \"\"\"Takes a time step using a numpy expression that has been\n",
    "    blitzed using weave.\"\"\"        \n",
    "    # The actual iteration\n",
    "    dnr_inv = 0.5/(dx2 + dy2)\n",
    "    expr = \"u[1:-1, 1:-1] = ((u[0:-2, 1:-1] + u[2:, 1:-1])*dy2 + \"\\\n",
    "           \"(u[1:-1,0:-2] + u[1:-1, 2:])*dx2)*dnr_inv\"\n",
    "    weave.blitz(expr, check_size=0)\n"
   ]
  },
  {
   "cell_type": "code",
   "execution_count": 6,
   "metadata": {
    "collapsed": false
   },
   "outputs": [
    {
     "name": "stdout",
     "output_type": "stream",
     "text": [
      "CPU times: user 48.7 ms, sys: 13.9 ms, total: 62.6 ms\n",
      "Wall time: 1.85 s\n"
     ]
    }
   ],
   "source": [
    "%time u=calc(dx=0.1, dy=0.1, n=50, function = blitz_update, nSteps=500)"
   ]
  },
  {
   "cell_type": "code",
   "execution_count": 22,
   "metadata": {
    "collapsed": false
   },
   "outputs": [
    {
     "data": {
      "text/plain": [
       "<matplotlib.collections.PolyCollection at 0x1099f3d90>"
      ]
     },
     "execution_count": 22,
     "metadata": {},
     "output_type": "execute_result"
    },
    {
     "data": {
      "image/png": "[encoded data removed]",
      "text/plain": [
       "<matplotlib.figure.Figure at 0x1095c7f90>"
      ]
     },
     "metadata": {},
     "output_type": "display_data"
    }
   ],
   "source": [
    "u = calc(dx=0.1, dy = 0.1, n = 50, function = blitz_update, nSteps = 500)\n",
    "figure(figsize=(5,5))\n",
    "pcolor(u)"
   ]
  },
  {
   "cell_type": "markdown",
   "metadata": {},
   "source": [
    "### Numba update function\n",
    "\n",
    "The `numba` package converts the Python function into compiled C code quickly and efficiently. The only thing I have done is to import the modules and wrap the update function with `autojit` - only three lines. Also, you can call `autojit` with a decorator, instead of calling it with an inline function:\n",
    "\n",
    "```\n",
    "@autojit\n",
    "def f(x):\n",
    "    return x\n",
    "```"
   ]
  },
  {
   "cell_type": "code",
   "execution_count": 30,
   "metadata": {
    "collapsed": true
   },
   "outputs": [],
   "source": [
    "from numba import double\n",
    "from numba.decorators import jit, autojit\n",
    "\n",
    "def numba_calc(dx,dy,n, function, nSteps):\n",
    "    u = zeros((n,n))\n",
    "    \n",
    "    for i in range(nSteps):\n",
    "        # Update boundary conditions\n",
    "        u[0,:] = linspace(0,1,n)   # Dirichlet b.c. at the top\n",
    "        u[n-1,:] = u[n-2,:]        # Neumann b.c. at the bottom\n",
    "        u[:,0] = u[:,1]            # Neumann b.c. at the left\n",
    "        u[:,n-1] = u[:,n-2]        # Neumann b.c. at the right\n",
    "    \n",
    "        autojit(function(u, dx*dx, dy*dy))\n",
    "        \n",
    "    return u"
   ]
  },
  {
   "cell_type": "code",
   "execution_count": 51,
   "metadata": {
    "collapsed": false
   },
   "outputs": [
    {
     "name": "stdout",
     "output_type": "stream",
     "text": [
      "CPU times: user 34.4 ms, sys: 2.31 ms, total: 36.7 ms\n",
      "Wall time: 50.6 ms\n"
     ]
    }
   ],
   "source": [
    "%time u=numba_calc(dx=0.1, dy=0.1, n=50, function = numpy_update, nSteps=500)"
   ]
  },
  {
   "cell_type": "code",
   "execution_count": 33,
   "metadata": {
    "collapsed": false
   },
   "outputs": [
    {
     "data": {
      "text/plain": [
       "<matplotlib.collections.PolyCollection at 0x10d9b4610>"
      ]
     },
     "execution_count": 33,
     "metadata": {},
     "output_type": "execute_result"
    },
    {
     "data": {
      "image/png": "[encoded data removed]",
      "text/plain": [
       "<matplotlib.figure.Figure at 0x108fb47d0>"
      ]
     },
     "metadata": {},
     "output_type": "display_data"
    }
   ],
   "source": [
    "u = numba_calc(dx=0.1, dy = 0.1, n = 50, function = numpy_update, nSteps = 500)\n",
    "figure(figsize=(5,5))\n",
    "pcolor(u)"
   ]
  },
  {
   "cell_type": "markdown",
   "metadata": {},
   "source": [
    "### numpy + numba versus numpy"
   ]
  },
  {
   "cell_type": "code",
   "execution_count": 46,
   "metadata": {
    "collapsed": false
   },
   "outputs": [
    {
     "name": "stdout",
     "output_type": "stream",
     "text": [
      "CPU times: user 1.31 s, sys: 20.7 ms, total: 1.34 s\n",
      "Wall time: 1.34 s\n"
     ]
    }
   ],
   "source": [
    "%time u=numba_calc(dx=0.1, dy=0.1, n=500, function = numpy_update, nSteps=500)"
   ]
  },
  {
   "cell_type": "code",
   "execution_count": 45,
   "metadata": {
    "collapsed": false
   },
   "outputs": [
    {
     "name": "stdout",
     "output_type": "stream",
     "text": [
      "CPU times: user 1.36 s, sys: 28.1 ms, total: 1.39 s\n",
      "Wall time: 1.4 s\n"
     ]
    }
   ],
   "source": [
    "%time u=calc(dx=0.1, dy=0.1, n=500, function = numpy_update, nSteps=500)"
   ]
  }
 ],
 "metadata": {
  "kernelspec": {
   "display_name": "Python 2",
   "language": "python",
   "name": "python2"
  },
  "language_info": {
   "codemirror_mode": {
    "name": "ipython",
    "version": 2
   },
   "file_extension": ".py",
   "mimetype": "text/x-python",
   "name": "python",
   "nbconvert_exporter": "python",
   "pygments_lexer": "ipython2",
   "version": "2.7.9"
  }
 },
 "nbformat": 4,
 "nbformat_minor": 0
}
